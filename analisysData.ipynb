{
 "cells": [
  {
   "cell_type": "code",
   "execution_count": null,
   "id": "1350f1ed-b9a8-4bbb-a334-2ce496f14ca2",
   "metadata": {},
   "outputs": [],
   "source": [
    "!java -version\n"
   ]
  },
  {
   "cell_type": "code",
   "execution_count": null,
   "id": "6de1fd3f-235a-458a-99da-58cf87049448",
   "metadata": {},
   "outputs": [],
   "source": [
    "!python --version\n"
   ]
  },
  {
   "cell_type": "code",
   "execution_count": null,
   "id": "e0c1726e-bf7d-4306-a00c-87c44d693849",
   "metadata": {},
   "outputs": [],
   "source": [
    "from pyspark import SparkContext\n",
    "from pyspark.sql import SparkSession\n",
    "from pyspark.sql.types import *\n",
    "from pyspark.sql.functions import col, lit, countDistinct\n",
    "import nltk"
   ]
  },
  {
   "cell_type": "markdown",
   "id": "5df10b43-dd49-4c06-98bf-009c3487187e",
   "metadata": {},
   "source": [
    "### Connecting to Spark cluster"
   ]
  },
  {
   "cell_type": "code",
   "execution_count": null,
   "id": "46fb0786-cec3-49b1-b183-2cfcc2b1b01f",
   "metadata": {},
   "outputs": [],
   "source": [
    "# Entry point for working with RDD\n",
    "sc = SparkContext(appName = \"analisysData\")"
   ]
  },
  {
   "cell_type": "code",
   "execution_count": null,
   "id": "9bc06cfe-0046-435f-a557-14cae440d520",
   "metadata": {},
   "outputs": [],
   "source": [
    "ses = SparkSession.builder\\\n",
    "        .master(\"localhost\")\\\n",
    "        .appName(\"analisysData\")\\\n",
    "        .getOrCreate()"
   ]
  },
  {
   "cell_type": "markdown",
   "id": "286c6226-a3df-4b31-be58-4c49fba7e17a",
   "metadata": {},
   "source": [
    "### File operations"
   ]
  },
  {
   "cell_type": "code",
   "execution_count": null,
   "id": "f0e66d06-7757-4986-b57b-d61dc400a8fa",
   "metadata": {},
   "outputs": [],
   "source": [
    "rdd_text = sc.textFile(\"Data//poem.txt\")\n"
   ]
  },
  {
   "cell_type": "markdown",
   "id": "5c1d4561-c339-4a4e-89a6-3f1cf6e94f24",
   "metadata": {
    "tags": []
   },
   "source": [
    "### MapReduce over RDD process"
   ]
  },
  {
   "cell_type": "code",
   "execution_count": null,
   "id": "7f2cb03e-a333-4c7c-87d7-66423b729ab2",
   "metadata": {},
   "outputs": [],
   "source": [
    "# What if I want to get a flat structure => Use flatMap function\n",
    "rdd_text.flatMap(lambda x: x.split(\" \")).collect()\n",
    "   \n",
    "listToStr = ' '.join(map(str, rdd_txt))\n",
    "  \n",
    "print(listToStr) "
   ]
  },
  {
   "cell_type": "markdown",
   "id": "93e550b3-3977-476a-b73b-9ea12c241383",
   "metadata": {},
   "source": [
    "### Use of the library nltk"
   ]
  },
  {
   "cell_type": "code",
   "execution_count": null,
   "id": "4a52059b-7b9d-43ef-9eed-c706e3141121",
   "metadata": {},
   "outputs": [],
   "source": [
    "#nltk.download('punkt')\n",
    "#nltk.download('averaged_perceptron_tagger')\n",
    "#usage example parts of speech\n",
    "#Nota: como no se logrò comprobar el resultado debido al error, quise implementar este ejemplo que determina el funcionamiento de la libreria\n",
    "sentence = \"\"\"Shrouded in golden leaves, we wait.\n",
    "The world doesn’t end at sunset and only dreams\n",
    "limit themselves to things. Through a labyrinth of blank hours\n",
    "time leads us on as autumn falls over our house, our patio.\"\"\"\n",
    "\n",
    "\n",
    "\"\"\"tokens = nltk.word_tokenize(sentence)\n",
    "tagged = nltk.pos_tag(tokens)\n",
    "tagged[0:6]\"\"\"\n",
    "\n",
    "#Use of the nltk library based on what is extracted in the reduce map\n",
    "tokens = nltk.word_tokenize(listToStr)\n",
    "tagged = nltk.pos_tag(tokens)\n",
    "print(tagged) "
   ]
  }
 ],
 "metadata": {
  "kernelspec": {
   "display_name": "Python 3 (ipykernel)",
   "language": "python",
   "name": "python3"
  },
  "language_info": {
   "codemirror_mode": {
    "name": "ipython",
    "version": 3
   },
   "file_extension": ".py",
   "mimetype": "text/x-python",
   "name": "python",
   "nbconvert_exporter": "python",
   "pygments_lexer": "ipython3",
   "version": "3.9.7"
  }
 },
 "nbformat": 4,
 "nbformat_minor": 5
}
